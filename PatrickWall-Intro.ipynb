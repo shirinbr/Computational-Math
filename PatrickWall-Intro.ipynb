{
 "cells": [
  {
   "cell_type": "markdown",
   "id": "76f5e1bc-69b5-41a0-aa57-c10f1eb081cd",
   "metadata": {
    "tags": []
   },
   "source": [
    "# BIRS Math Education in 2030\n",
    "\n",
    "## Computational Teaching and Learning\n"
   ]
  },
  {
   "cell_type": "markdown",
   "id": "8ac69539-11a2-4de2-a3de-1309c22f97aa",
   "metadata": {},
   "source": [
    "* Create a GitHub repo\n",
    "* Clone to Syzygy/local\n",
    "* Create content\n",
    "* Share content\n",
    "* Assessment "
   ]
  },
  {
   "cell_type": "markdown",
   "id": "480f0717-d272-4c6a-a564-ebeb9e8956ee",
   "metadata": {},
   "source": [
    "### References\n",
    "\n",
    "* [Teaching Tech Together]{https://teachtogether.tech/en/index.html}"
   ]
  },
  {
   "cell_type": "code",
   "execution_count": null,
   "id": "217d25f7-1c7e-48e7-91fd-a21d07a82fe3",
   "metadata": {},
   "outputs": [],
   "source": []
  }
 ],
 "metadata": {
  "kernelspec": {
   "display_name": "Python 3 (ipykernel)",
   "language": "python",
   "name": "python3"
  },
  "language_info": {
   "codemirror_mode": {
    "name": "ipython",
    "version": 3
   },
   "file_extension": ".py",
   "mimetype": "text/x-python",
   "name": "python",
   "nbconvert_exporter": "python",
   "pygments_lexer": "ipython3",
   "version": "3.9.5"
  }
 },
 "nbformat": 4,
 "nbformat_minor": 5
}
