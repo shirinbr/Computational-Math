{
 "cells": [
  {
   "cell_type": "markdown",
   "id": "76f5e1bc-69b5-41a0-aa57-c10f1eb081cd",
   "metadata": {
    "tags": []
   },
   "source": [
    "# BIRS Math Education in 2030\n",
    "\n",
    "## Computational Teaching and Learning\n"
   ]
  },
  {
   "cell_type": "markdown",
   "id": "8ac69539-11a2-4de2-a3de-1309c22f97aa",
   "metadata": {},
   "source": [
    "* Create a GitHub repo\n",
    "* Clone to Syzygy/local\n",
    "* Create content\n",
    "* Share content\n",
    "* Assessment "
   ]
  },
  {
   "cell_type": "markdown",
   "id": "480f0717-d272-4c6a-a564-ebeb9e8956ee",
   "metadata": {},
   "source": [
    "### References\n",
    "\n",
    "* [Teaching Tech Together]{https://teachtogether.tech/en/index.html}"
   ]
  },
  {
   "cell_type": "markdown",
   "id": "03678478-01d4-4c41-91c2-d33f37c7b23e",
   "metadata": {},
   "source": [
    "### Linear Algebra"
   ]
  },
  {
   "cell_type": "code",
   "execution_count": 1,
   "id": "f98332c4-4246-4426-ac7f-ade089e421a6",
   "metadata": {},
   "outputs": [
    {
     "ename": "ModuleNotFoundError",
     "evalue": "No module named 'numpy'",
     "output_type": "error",
     "traceback": [
      "\u001b[0;31m---------------------------------------------------------------------------\u001b[0m",
      "\u001b[0;31mModuleNotFoundError\u001b[0m                       Traceback (most recent call last)",
      "Input \u001b[0;32mIn [1]\u001b[0m, in \u001b[0;36m<cell line: 1>\u001b[0;34m()\u001b[0m\n\u001b[0;32m----> 1\u001b[0m \u001b[38;5;28;01mimport\u001b[39;00m \u001b[38;5;21;01mnumpy\u001b[39;00m \u001b[38;5;28;01mas\u001b[39;00m \u001b[38;5;21;01mnp\u001b[39;00m\n\u001b[1;32m      2\u001b[0m \u001b[38;5;28;01mimport\u001b[39;00m \u001b[38;5;21;01mmathplotlib\u001b[39;00m \u001b[38;5;28;01mas\u001b[39;00m \u001b[38;5;21;01mpyplot\u001b[39;00m\n",
      "\u001b[0;31mModuleNotFoundError\u001b[0m: No module named 'numpy'"
     ]
    }
   ],
   "source": [
    "import numpy as np\n",
    "import mathplotlib as pyplot"
   ]
  },
  {
   "cell_type": "code",
   "execution_count": null,
   "id": "29e296e2-148d-4c16-a0af-aee1f5523fc3",
   "metadata": {},
   "outputs": [],
   "source": []
  }
 ],
 "metadata": {
  "kernelspec": {
   "display_name": "Python 3 (ipykernel)",
   "language": "python",
   "name": "python3"
  },
  "language_info": {
   "codemirror_mode": {
    "name": "ipython",
    "version": 3
   },
   "file_extension": ".py",
   "mimetype": "text/x-python",
   "name": "python",
   "nbconvert_exporter": "python",
   "pygments_lexer": "ipython3",
   "version": "3.9.5"
  }
 },
 "nbformat": 4,
 "nbformat_minor": 5
}
